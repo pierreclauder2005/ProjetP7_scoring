{
 "cells": [
  {
   "cell_type": "markdown",
   "id": "eaac2a65",
   "metadata": {},
   "source": [
    "# ALGO et MODELISATION "
   ]
  },
  {
   "cell_type": "code",
   "execution_count": 1,
   "id": "2cac261e",
   "metadata": {},
   "outputs": [],
   "source": [
    "import matplotlib.pyplot as plt\n",
    "import seaborn as sns\n",
    "import pandas as pd\n",
    "import numpy as np\n",
    "from builtins import abs\n",
    "from sklearn.metrics import roc_curve, auc, RocCurveDisplay\n"
   ]
  },
  {
   "cell_type": "code",
   "execution_count": 3,
   "id": "7c36dcc0",
   "metadata": {},
   "outputs": [],
   "source": [
    "# Lecture du fichier résultat de l'étape précédente EDA\n",
    "\n",
    "application_copy = pd.read_csv('./credit_conso.csv')"
   ]
  },
  {
   "cell_type": "code",
   "execution_count": 8,
   "id": "ecb0e58e",
   "metadata": {},
   "outputs": [],
   "source": [
    "# Séparation des features et Target\n",
    "\n",
    "X = application_copy.drop('TARGET', axis=1)\n",
    "y = application_copy['TARGET']"
   ]
  },
  {
   "cell_type": "code",
   "execution_count": 13,
   "id": "2caf320c",
   "metadata": {},
   "outputs": [],
   "source": [
    "# Nettoyage des noms de colonnes contenant des espaces et \":\"\n",
    "\n",
    "X.columns = X_train.columns.str.replace(r'[\\s:]', '_', regex=True)"
   ]
  },
  {
   "cell_type": "code",
   "execution_count": 14,
   "id": "da7d49b0",
   "metadata": {},
   "outputs": [],
   "source": [
    "# 2ème Nettoyage \n",
    "\n",
    "X.columns = X_train.columns.str.replace('/', '_')"
   ]
  },
  {
   "cell_type": "code",
   "execution_count": 15,
   "id": "665439e0",
   "metadata": {},
   "outputs": [
    {
     "name": "stderr",
     "output_type": "stream",
     "text": [
      "C:\\Users\\TUIT\\AppData\\Local\\Temp\\ipykernel_7072\\1455759219.py:3: FutureWarning: The default value of regex will change from True to False in a future version.\n",
      "  X_train.columns = X_train.columns.str.replace('[-,]', '_')\n"
     ]
    }
   ],
   "source": [
    "# 3ème Nettoyage\n",
    "\n",
    "X.columns = X_train.columns.str.replace('[-,]', '_')\n"
   ]
  },
  {
   "cell_type": "code",
   "execution_count": 37,
   "id": "cd65f9cf",
   "metadata": {},
   "outputs": [],
   "source": []
  },
  {
   "cell_type": "code",
   "execution_count": null,
   "id": "25879ccc",
   "metadata": {},
   "outputs": [],
   "source": []
  }
 ],
 "metadata": {
  "kernelspec": {
   "display_name": "Python 3 (ipykernel)",
   "language": "python",
   "name": "python3"
  },
  "language_info": {
   "codemirror_mode": {
    "name": "ipython",
    "version": 3
   },
   "file_extension": ".py",
   "mimetype": "text/x-python",
   "name": "python",
   "nbconvert_exporter": "python",
   "pygments_lexer": "ipython3",
   "version": "3.9.13"
  }
 },
 "nbformat": 4,
 "nbformat_minor": 5
}
